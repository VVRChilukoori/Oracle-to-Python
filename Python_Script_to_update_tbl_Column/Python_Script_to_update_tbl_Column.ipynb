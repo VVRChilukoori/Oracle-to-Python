{
 "cells": [
  {
   "cell_type": "markdown",
   "metadata": {},
   "source": [
    "# Python script to update a column in a table in Oracle db"
   ]
  },
  {
   "cell_type": "code",
   "execution_count": 1,
   "metadata": {},
   "outputs": [],
   "source": [
    "# Importing library packages\n",
    "import cx_Oracle # python package for oracle db connection \n",
    "import pandas as pd # python package for dataframes"
   ]
  },
  {
   "cell_type": "code",
   "execution_count": 2,
   "metadata": {},
   "outputs": [],
   "source": [
    "# DB connection setup\n",
    "testdb_tnsdsn = cx_Oracle.makedsn('<Hostname>', '<Port>', service_name='<Service name>') \n",
    "conn_v = cx_Oracle.connect(user='<Username>', password='<Password>'.encode(), dsn=testdb_tnsdsn)"
   ]
  },
  {
   "cell_type": "code",
   "execution_count": 3,
   "metadata": {},
   "outputs": [],
   "source": [
    "# Declaring variables\n",
    "table_name = 'ID_TEST' # Give the name of the table in the database\n",
    "column_name = 'ACCT_ID' # Change it with the column name based on which we will be querying\n",
    "update_columnname = 'DESCRIPTION' # column name to look into inside the table\n",
    "update_columndesc = 'ID present in excel sheet' # description that will be updated in the table column\n",
    "sheet_name = 'sheet1' # Change the name of the sheet according to the requirement based on the excel sheet\n",
    "srcxlsx_df = pd.ExcelFile(r'excel_columns.xlsx').parse('{:s}'.format(sheet_name)) # Reading data from excel sheet and storing it into a variable"
   ]
  },
  {
   "cell_type": "code",
   "execution_count": 4,
   "metadata": {},
   "outputs": [
    {
     "name": "stdout",
     "output_type": "stream",
     "text": [
      "   ACCT_ID\n",
      "0    23456\n",
      "1    13456\n",
      "2    67890\n"
     ]
    }
   ],
   "source": [
    "print(srcxlsx_df) # Prints the account ids listed in the excel sheet"
   ]
  },
  {
   "cell_type": "code",
   "execution_count": 5,
   "metadata": {},
   "outputs": [
    {
     "data": {
      "text/html": [
       "<div>\n",
       "<style scoped>\n",
       "    .dataframe tbody tr th:only-of-type {\n",
       "        vertical-align: middle;\n",
       "    }\n",
       "\n",
       "    .dataframe tbody tr th {\n",
       "        vertical-align: top;\n",
       "    }\n",
       "\n",
       "    .dataframe thead th {\n",
       "        text-align: right;\n",
       "    }\n",
       "</style>\n",
       "<table border=\"1\" class=\"dataframe\">\n",
       "  <thead>\n",
       "    <tr style=\"text-align: right;\">\n",
       "      <th></th>\n",
       "      <th>ACCT_ID</th>\n",
       "      <th>DESCRIPTION</th>\n",
       "    </tr>\n",
       "  </thead>\n",
       "  <tbody>\n",
       "    <tr>\n",
       "      <th>0</th>\n",
       "      <td>12345</td>\n",
       "      <td>None</td>\n",
       "    </tr>\n",
       "    <tr>\n",
       "      <th>1</th>\n",
       "      <td>32345</td>\n",
       "      <td>None</td>\n",
       "    </tr>\n",
       "    <tr>\n",
       "      <th>2</th>\n",
       "      <td>23456</td>\n",
       "      <td>None</td>\n",
       "    </tr>\n",
       "    <tr>\n",
       "      <th>3</th>\n",
       "      <td>13456</td>\n",
       "      <td>None</td>\n",
       "    </tr>\n",
       "    <tr>\n",
       "      <th>4</th>\n",
       "      <td>34567</td>\n",
       "      <td>None</td>\n",
       "    </tr>\n",
       "    <tr>\n",
       "      <th>5</th>\n",
       "      <td>45678</td>\n",
       "      <td>ID found in excel</td>\n",
       "    </tr>\n",
       "    <tr>\n",
       "      <th>6</th>\n",
       "      <td>56789</td>\n",
       "      <td>None</td>\n",
       "    </tr>\n",
       "    <tr>\n",
       "      <th>7</th>\n",
       "      <td>67890</td>\n",
       "      <td>None</td>\n",
       "    </tr>\n",
       "  </tbody>\n",
       "</table>\n",
       "</div>"
      ],
      "text/plain": [
       "  ACCT_ID        DESCRIPTION\n",
       "0   12345               None\n",
       "1   32345               None\n",
       "2   23456               None\n",
       "3   13456               None\n",
       "4   34567               None\n",
       "5   45678  ID found in excel\n",
       "6   56789               None\n",
       "7   67890               None"
      ]
     },
     "execution_count": 5,
     "metadata": {},
     "output_type": "execute_result"
    }
   ],
   "source": [
    "dbtbl_bfrupdt= pd.read_sql_query(\"select * from TEST_DB.ID_TEST\",conn_v)\n",
    "dbtbl_bfrupdt #Displays records in the table (before making any changes)"
   ]
  },
  {
   "cell_type": "code",
   "execution_count": 6,
   "metadata": {},
   "outputs": [
    {
     "name": "stdout",
     "output_type": "stream",
     "text": [
      "Total updated account ids count: 3\n"
     ]
    }
   ],
   "source": [
    "acctcnt_updtd = 0  # creating a variable with value as zero. whenever there is an update it will increase the count\n",
    "c = conn_v.cursor() # Creating a cursor. It will be used later on for updating the column of a table in db\n",
    "for x in srcxlsx_df['ACCT_ID']:\n",
    "    db_column= pd.read_sql_query(\"select {:s} from {:s} where {:s} = '{:d}' \".format(column_name,table_name,column_name,x),conn_v)\n",
    "    db_column\n",
    "    if db_column.empty is False:\n",
    "        db_value = db_column['ACCT_ID'][0]\n",
    "        c.execute(\"update {:s} set {:s}= '{:s}' where {:s}='{:s}'\".format(table_name,update_columnname,update_columndesc,column_name,db_value))\n",
    "        acctcnt_updtd += 1\n",
    "        conn_v.commit()\n",
    "        \n",
    "    else:\n",
    "        print(\"Check table in database.\")  # It will be printed if there source sheet is empty.\n",
    "print(\"Total updated account ids count: {:d}\".format(acctcnt_updtd)) # Printing the total updated accounts count"
   ]
  },
  {
   "cell_type": "code",
   "execution_count": 7,
   "metadata": {},
   "outputs": [
    {
     "data": {
      "text/html": [
       "<div>\n",
       "<style scoped>\n",
       "    .dataframe tbody tr th:only-of-type {\n",
       "        vertical-align: middle;\n",
       "    }\n",
       "\n",
       "    .dataframe tbody tr th {\n",
       "        vertical-align: top;\n",
       "    }\n",
       "\n",
       "    .dataframe thead th {\n",
       "        text-align: right;\n",
       "    }\n",
       "</style>\n",
       "<table border=\"1\" class=\"dataframe\">\n",
       "  <thead>\n",
       "    <tr style=\"text-align: right;\">\n",
       "      <th></th>\n",
       "      <th>ACCT_ID</th>\n",
       "      <th>DESCRIPTION</th>\n",
       "    </tr>\n",
       "  </thead>\n",
       "  <tbody>\n",
       "    <tr>\n",
       "      <th>0</th>\n",
       "      <td>12345</td>\n",
       "      <td>None</td>\n",
       "    </tr>\n",
       "    <tr>\n",
       "      <th>1</th>\n",
       "      <td>32345</td>\n",
       "      <td>None</td>\n",
       "    </tr>\n",
       "    <tr>\n",
       "      <th>2</th>\n",
       "      <td>23456</td>\n",
       "      <td>ID present in excel sheet</td>\n",
       "    </tr>\n",
       "    <tr>\n",
       "      <th>3</th>\n",
       "      <td>13456</td>\n",
       "      <td>ID present in excel sheet</td>\n",
       "    </tr>\n",
       "    <tr>\n",
       "      <th>4</th>\n",
       "      <td>34567</td>\n",
       "      <td>None</td>\n",
       "    </tr>\n",
       "    <tr>\n",
       "      <th>5</th>\n",
       "      <td>45678</td>\n",
       "      <td>ID found in excel</td>\n",
       "    </tr>\n",
       "    <tr>\n",
       "      <th>6</th>\n",
       "      <td>56789</td>\n",
       "      <td>None</td>\n",
       "    </tr>\n",
       "    <tr>\n",
       "      <th>7</th>\n",
       "      <td>67890</td>\n",
       "      <td>ID present in excel sheet</td>\n",
       "    </tr>\n",
       "  </tbody>\n",
       "</table>\n",
       "</div>"
      ],
      "text/plain": [
       "  ACCT_ID                DESCRIPTION\n",
       "0   12345                       None\n",
       "1   32345                       None\n",
       "2   23456  ID present in excel sheet\n",
       "3   13456  ID present in excel sheet\n",
       "4   34567                       None\n",
       "5   45678          ID found in excel\n",
       "6   56789                       None\n",
       "7   67890  ID present in excel sheet"
      ]
     },
     "execution_count": 7,
     "metadata": {},
     "output_type": "execute_result"
    }
   ],
   "source": [
    "dbtbl_aftrupdt= pd.read_sql_query(\"select * from TEST_DB.ID_TEST\",conn_v)\n",
    "dbtbl_aftrupdt #Displays records in the table (after making changes)"
   ]
  },
  {
   "cell_type": "code",
   "execution_count": 8,
   "metadata": {},
   "outputs": [],
   "source": [
    "conn_v.close() # Close the database connection "
   ]
  }
 ],
 "metadata": {
  "kernelspec": {
   "display_name": "Python 3",
   "language": "python",
   "name": "python3"
  },
  "language_info": {
   "codemirror_mode": {
    "name": "ipython",
    "version": 3
   },
   "file_extension": ".py",
   "mimetype": "text/x-python",
   "name": "python",
   "nbconvert_exporter": "python",
   "pygments_lexer": "ipython3",
   "version": "3.6.4"
  }
 },
 "nbformat": 4,
 "nbformat_minor": 2
}
